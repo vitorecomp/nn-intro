{
 "cells": [
  {
   "cell_type": "code",
   "execution_count": 3,
   "id": "d0d63712-e9db-437e-b5d1-3e6e8353e76a",
   "metadata": {},
   "outputs": [
    {
     "name": "stdout",
     "output_type": "stream",
     "text": [
      "Requirement already satisfied: numpy in /opt/app-root/lib/python3.9/site-packages (1.24.3)\n",
      "Collecting matplotlib\n",
      "  Downloading matplotlib-3.7.1-cp39-cp39-manylinux_2_17_x86_64.manylinux2014_x86_64.whl (11.6 MB)\n",
      "\u001b[2K     \u001b[90m━━━━━━━━━━━━━━━━━━━━━━━━━━━━━━━━━━━━━━━━\u001b[0m \u001b[32m11.6/11.6 MB\u001b[0m \u001b[31m80.7 MB/s\u001b[0m eta \u001b[36m0:00:00\u001b[0m \u001b[36m0:00:01\u001b[0m\n",
      "\u001b[?25hCollecting contourpy>=1.0.1 (from matplotlib)\n",
      "  Downloading contourpy-1.1.0-cp39-cp39-manylinux_2_17_x86_64.manylinux2014_x86_64.whl (300 kB)\n",
      "\u001b[2K     \u001b[90m━━━━━━━━━━━━━━━━━━━━━━━━━━━━━━━━━━━━━\u001b[0m \u001b[32m300.4/300.4 kB\u001b[0m \u001b[31m310.9 MB/s\u001b[0m eta \u001b[36m0:00:00\u001b[0m\n",
      "\u001b[?25hCollecting cycler>=0.10 (from matplotlib)\n",
      "  Downloading cycler-0.11.0-py3-none-any.whl (6.4 kB)\n",
      "Collecting fonttools>=4.22.0 (from matplotlib)\n",
      "  Downloading fonttools-4.40.0-cp39-cp39-manylinux_2_17_x86_64.manylinux2014_x86_64.whl (4.4 MB)\n",
      "\u001b[2K     \u001b[90m━━━━━━━━━━━━━━━━━━━━━━━━━━━━━━━━━━━━━━━━\u001b[0m \u001b[32m4.4/4.4 MB\u001b[0m \u001b[31m187.3 MB/s\u001b[0m eta \u001b[36m0:00:00\u001b[0m\n",
      "\u001b[?25hCollecting kiwisolver>=1.0.1 (from matplotlib)\n",
      "  Downloading kiwisolver-1.4.4-cp39-cp39-manylinux_2_12_x86_64.manylinux2010_x86_64.whl (1.6 MB)\n",
      "\u001b[2K     \u001b[90m━━━━━━━━━━━━━━━━━━━━━━━━━━━━━━━━━━━━━━━━\u001b[0m \u001b[32m1.6/1.6 MB\u001b[0m \u001b[31m315.8 MB/s\u001b[0m eta \u001b[36m0:00:00\u001b[0m\n",
      "\u001b[?25hRequirement already satisfied: numpy>=1.20 in /opt/app-root/lib/python3.9/site-packages (from matplotlib) (1.24.3)\n",
      "Requirement already satisfied: packaging>=20.0 in /opt/app-root/lib/python3.9/site-packages (from matplotlib) (21.3)\n",
      "Collecting pillow>=6.2.0 (from matplotlib)\n",
      "  Downloading Pillow-9.5.0-cp39-cp39-manylinux_2_28_x86_64.whl (3.4 MB)\n",
      "\u001b[2K     \u001b[90m━━━━━━━━━━━━━━━━━━━━━━━━━━━━━━━━━━━━━━━━\u001b[0m \u001b[32m3.4/3.4 MB\u001b[0m \u001b[31m131.8 MB/s\u001b[0m eta \u001b[36m0:00:00\u001b[0m\n",
      "\u001b[?25hRequirement already satisfied: pyparsing>=2.3.1 in /opt/app-root/lib/python3.9/site-packages (from matplotlib) (3.0.9)\n",
      "Requirement already satisfied: python-dateutil>=2.7 in /opt/app-root/lib/python3.9/site-packages (from matplotlib) (2.8.2)\n",
      "Collecting importlib-resources>=3.2.0 (from matplotlib)\n",
      "  Downloading importlib_resources-5.12.0-py3-none-any.whl (36 kB)\n",
      "Requirement already satisfied: zipp>=3.1.0 in /opt/app-root/lib/python3.9/site-packages (from importlib-resources>=3.2.0->matplotlib) (3.15.0)\n",
      "Requirement already satisfied: six>=1.5 in /opt/app-root/lib/python3.9/site-packages (from python-dateutil>=2.7->matplotlib) (1.16.0)\n",
      "Installing collected packages: pillow, kiwisolver, importlib-resources, fonttools, cycler, contourpy, matplotlib\n",
      "Successfully installed contourpy-1.1.0 cycler-0.11.0 fonttools-4.40.0 importlib-resources-5.12.0 kiwisolver-1.4.4 matplotlib-3.7.1 pillow-9.5.0\n"
     ]
    }
   ],
   "source": [
    "!pip install numpy\n",
    "!pip install matplotlib"
   ]
  },
  {
   "cell_type": "code",
   "execution_count": 9,
   "id": "601e931c-14cc-4edc-b4f5-8e767d9704c8",
   "metadata": {},
   "outputs": [],
   "source": [
    "import numpy as np\n",
    "import math, random\n",
    "import matplotlib.pyplot as plt\n",
    "from mpl_toolkits import mplot3d\n",
    "\n",
    "def single_neuron_regression_model(w, w_0, x):\n",
    "    # Perform the dot product on the input x and the learned weights w\n",
    "    z = 0\n",
    "    for feature, weight in zip(x, w):\n",
    "        z += feature * weight\n",
    "    z += w_0  #Add the bias term\n",
    "    \n",
    "    # Apply the activation function, and return\n",
    "    a = sigmoid(z)\n",
    "    return a\n",
    "\n",
    "# simple linear activiation function: just returns identity\n",
    "def sigmoid(z):\n",
    "    non_zero_tolerance = 1e-8 # add this to divisions to ensure we don't divide by 0\n",
    "    return 1 / (1 + math.exp(-z) + non_zero_tolerance)\n"
   ]
  },
  {
   "cell_type": "code",
   "execution_count": 10,
   "id": "b960692b-4dda-4cc4-992f-fb18c6abc901",
   "metadata": {},
   "outputs": [
    {
     "name": "stdout",
     "output_type": "stream",
     "text": [
      "input [1, 2] => output 0.574442513511817\n"
     ]
    }
   ],
   "source": [
    "x = [1, 2]\n",
    "w = [0.1, 0.1]\n",
    "w_0 = 0\n",
    "\n",
    "y = single_neuron_regression_model(w, w_0, x)\n",
    "print(\"input\", x, \"=> output\", y)"
   ]
  },
  {
   "cell_type": "code",
   "execution_count": 11,
   "id": "57d2e876-0ffe-46ce-84a8-05aba1288c42",
   "metadata": {},
   "outputs": [
    {
     "data": {
      "text/plain": [
       "<function matplotlib.pyplot.show(close=None, block=None)>"
      ]
     },
     "execution_count": 11,
     "metadata": {},
     "output_type": "execute_result"
    },
    {
     "data": {
      "image/png": "[encoded data removed]",
      "text/plain": [
       "<Figure size 640x480 with 1 Axes>"
      ]
     },
     "metadata": {},
     "output_type": "display_data"
    }
   ],
   "source": [
    "sig_x = np.arange(-10, 10, .2)\n",
    "sig_y = [sigmoid(x) for x in sig_x]\n",
    "plt.plot(sig_x, sig_y)\n",
    "plt.show"
   ]
  },
  {
   "cell_type": "code",
   "execution_count": 15,
   "id": "0d7e9439-348b-49c8-9223-160ec398264d",
   "metadata": {},
   "outputs": [],
   "source": [
    "def train_model_NLL_loss(model_function, w, w_0, \n",
    "                         input_data, output_data, \n",
    "                         learning_rate, num_epochs):\n",
    "    non_zero_tolerance = 1e-8 # add this to log calculations to ensure we don't take the log of 0\n",
    "    do_print = False\n",
    "    for epoch in range(num_epochs):\n",
    "        total_loss = 0 #keep track of total loss across the data set\n",
    "        for x, y in zip(input_data, output_data):\n",
    "            y_predicted = model_function(w, w_0, x)\n",
    "            nll_loss = -(y * math.log(y_predicted + non_zero_tolerance) + (1-y) * math.log(1-y_predicted + non_zero_tolerance))\n",
    "            \n",
    "            total_loss += nll_loss\n",
    "            if do_print: print(\"x:\", x, \"y:\", y, \"nll_loss:\", nll_loss)\n",
    "            if do_print: print(\" old weights:\", w, w_0)\n",
    "\n",
    "            # update bias coefficent using gradient w.r.t w_0\n",
    "            w_0 -= learning_rate * (y_predicted - y)\n",
    "            \n",
    "            # update other model coefficients using gradient w.r.t that coeff\n",
    "            for j, x_j in enumerate(x):\n",
    "                w[j] -= learning_rate * (y_predicted - y) * x_j\n",
    "                \n",
    "            if do_print: print(\" new weights:\", w, w_0)\n",
    "            \n",
    "        report_every = max(1, num_epochs // 10)\n",
    "        if epoch % report_every == 0: #every few epochs, report on progress\n",
    "            print(\"epoch\", epoch, \"has total loss\", total_loss)\n",
    "           \n",
    "    return w, w_0"
   ]
  },
  {
   "cell_type": "code",
   "execution_count": 25,
   "id": "f7d53ab8-1892-425b-be14-41237629c3e8",
   "metadata": {},
   "outputs": [
    {
     "data": {
      "image/png": "[encoded data removed]",
      "text/plain": [
       "<Figure size 640x480 with 1 Axes>"
      ]
     },
     "metadata": {},
     "output_type": "display_data"
    }
   ],
   "source": [
    "# Here we have a dataset of 2D linearly separable datapoints\n",
    "input_data = [[0, 0],[1, 1],[1, 0],[0, 1]]\n",
    "# And their corresponding labels\n",
    "labels = [0, 1, 1, 1]\n",
    "\n",
    "# This utility function will allow us to visualize a given 2D dataset.\n",
    "# You don't need to understand this code right now.\n",
    "def plot_dataset_2D(x, y):\n",
    "    x_np = np.array(x)\n",
    "    x_np.reshape(len(x), 2)\n",
    "    colors = []\n",
    "    for label in y:\n",
    "        if label == 0:\n",
    "            colors.append(\"red\")\n",
    "        else:\n",
    "            colors.append(\"blue\")\n",
    "    plt.scatter(x_np[...,0], x_np[...,1], color=colors)\n",
    "\n",
    "# This utility function will allow us to visualize a 2D decision boundary\n",
    "def plot_decision_boundary_2D(w, w_0):\n",
    "    ylim = plt.ylim()\n",
    "    x1 = np.arange(-5,6)\n",
    "    plt.plot(x1, (-w_0 - w[0]*x1)/w[1])\n",
    "    plt.ylim(ylim)\n",
    "\n",
    "def evaluate_classification_accuracy(model_function, w, w_0, input_data, labels):\n",
    "    # Count the number of correctly classified samples given a set of weights\n",
    "    correct = 0\n",
    "    n = len(input_data)\n",
    "    for x, y in zip(input_data, labels):\n",
    "        y_predicted = model_function(w, w_0, x)\n",
    "        label_predicted = 1 if y_predicted > 0.5 else 0\n",
    "        if label_predicted == y:\n",
    "            correct += 1\n",
    "        else:\n",
    "            print(\"Misclassify\", x, y, \"with activation\", y_predicted)\n",
    "    accuracy = correct / n\n",
    "    print(\"Our model predicted\", correct, \"out of\", n, \n",
    "          \"correctly for\", accuracy*100, \"% accuracy\")\n",
    "    return accuracy\n",
    "\n",
    "# Visualize the above dataset\n",
    "plot_dataset_2D(input_data, labels)\n",
    "plot_decision_boundary_2D([1, 0.0001], -0.5)\n",
    "\n"
   ]
  },
  {
   "cell_type": "code",
   "execution_count": 38,
   "id": "8f86a3e2-fe45-4f47-b7ce-e1244b3ef1d9",
   "metadata": {},
   "outputs": [
    {
     "name": "stdout",
     "output_type": "stream",
     "text": [
      "epoch 0 has total loss 2.7775961563873945\n",
      "epoch 500 has total loss 1.0696290299372877\n",
      "epoch 1000 has total loss 0.7308344970036\n",
      "epoch 1500 has total loss 0.5485621478663054\n",
      "epoch 2000 has total loss 0.4360049626276292\n",
      "epoch 2500 has total loss 0.3601731270838312\n",
      "epoch 3000 has total loss 0.30591566026925265\n",
      "epoch 3500 has total loss 0.26533433166608056\n",
      "epoch 4000 has total loss 0.23392797193159465\n",
      "epoch 4500 has total loss 0.20895438442735012\n",
      "\n",
      "Final weights:\n",
      "[5.365368141605033, 5.357508122427056] -2.183613464676327\n",
      "Our model predicted 4 out of 4 correctly for 100.0 % accuracy\n"
     ]
    },
    {
     "data": {
      "image/png": "[encoded data removed]",
      "text/plain": [
       "<Figure size 640x480 with 1 Axes>"
      ]
     },
     "metadata": {},
     "output_type": "display_data"
    }
   ],
   "source": [
    "# In this example we set the initial weights to zero and the learning rate \n",
    "# relatively small. However, we only train for a few epochs which is not \n",
    "# enough to converge on an accurate classifier.\n",
    "w_0 = 0\n",
    "w = [0.2, -0.2]\n",
    "learning_rate = 0.01\n",
    "epochs = 5000\n",
    "\n",
    "w, w_0 = train_model_NLL_loss(single_neuron_regression_model, w, w_0,\n",
    "                              input_data, labels, \n",
    "                              learning_rate, epochs)\n",
    "print(\"\\nFinal weights:\")\n",
    "print(w, w_0)\n",
    "evaluate_classification_accuracy(single_neuron_regression_model, w, w_0, input_data, labels)\n",
    "plot_dataset_2D(input_data, labels)\n",
    "plot_decision_boundary_2D(w, w_0)"
   ]
  },
  {
   "cell_type": "code",
   "execution_count": 39,
   "id": "cda08c99-6902-4bcf-945c-29a465b23fea",
   "metadata": {},
   "outputs": [
    {
     "name": "stdout",
     "output_type": "stream",
     "text": [
      "epoch 0 has total loss 2.7876225242403487\n",
      "epoch 500 has total loss 1.457935273677029\n",
      "epoch 1000 has total loss 1.0405204313736882\n",
      "epoch 1500 has total loss 0.8173119545592457\n",
      "epoch 2000 has total loss 0.6745210632170076\n",
      "epoch 2500 has total loss 0.5741749652493746\n",
      "epoch 3000 has total loss 0.49946918430114684\n",
      "epoch 3500 has total loss 0.4416065118263051\n",
      "epoch 4000 has total loss 0.39545871343042893\n",
      "epoch 4500 has total loss 0.3578067828609526\n",
      "\n",
      "Final weights:\n",
      "[4.239205112676078, 4.239929906121907] -6.552369519167407\n",
      "Our model predicted 4 out of 4 correctly for 100.0 % accuracy\n"
     ]
    },
    {
     "data": {
      "image/png": "[encoded data removed]",
      "text/plain": [
       "<Figure size 640x480 with 1 Axes>"
      ]
     },
     "metadata": {},
     "output_type": "display_data"
    }
   ],
   "source": [
    "# Here we have a dataset of 2D linearly separable datapoints\n",
    "input_data = [[0, 0],[1, 1],[1, 0],[0, 1]]\n",
    "# And their corresponding labels\n",
    "labels = [0, 1, 0, 0]\n",
    "w_0 = 0\n",
    "w = [0.2, -0.2]\n",
    "learning_rate = 0.01\n",
    "epochs = 5000\n",
    "\n",
    "w, w_0 = train_model_NLL_loss(single_neuron_regression_model, w, w_0,\n",
    "                              input_data, labels, \n",
    "                              learning_rate, epochs)\n",
    "print(\"\\nFinal weights:\")\n",
    "print(w, w_0)\n",
    "evaluate_classification_accuracy(single_neuron_regression_model, w, w_0, input_data, labels)\n",
    "plot_dataset_2D(input_data, labels)\n",
    "plot_decision_boundary_2D(w, w_0)"
   ]
  },
  {
   "cell_type": "code",
   "execution_count": 41,
   "id": "c1f72141-150a-43c6-b07b-dfcff228506c",
   "metadata": {},
   "outputs": [
    {
     "name": "stdout",
     "output_type": "stream",
     "text": [
      "epoch 0 has total loss 2.792597075054207\n",
      "epoch 5000 has total loss 2.7826262666637986\n",
      "epoch 10000 has total loss 2.7826262672640536\n",
      "epoch 15000 has total loss 2.7826262672639324\n",
      "epoch 20000 has total loss 2.7826262672639324\n",
      "epoch 25000 has total loss 2.7826262672639324\n",
      "epoch 30000 has total loss 2.7826262672639324\n",
      "epoch 35000 has total loss 2.7826262672639324\n",
      "epoch 40000 has total loss 2.7826262672639324\n",
      "epoch 45000 has total loss 2.7826262672639324\n",
      "\n",
      "Final weights:\n",
      "[-0.005012531301891763, -2.402592014227878e-16] -0.005012521301765671\n",
      "Misclassify [0, 0] 1 with activation 0.4987468698108478\n",
      "Misclassify [1, 1] 1 with activation 0.497493755364179\n",
      "Our model predicted 2 out of 4 correctly for 50.0 % accuracy\n"
     ]
    },
    {
     "data": {
      "image/png": "[encoded data removed]",
      "text/plain": [
       "<Figure size 640x480 with 1 Axes>"
      ]
     },
     "metadata": {},
     "output_type": "display_data"
    }
   ],
   "source": [
    "# Here we have a dataset of 2D linearly separable datapoints\n",
    "input_data = [[0, 0],[1, 1],[1, 0],[0, 1]]\n",
    "# And their corresponding labels\n",
    "labels = [1, 1, 0, 0]\n",
    "w_0 = 0\n",
    "w = [0.2, -0.2]\n",
    "learning_rate = 0.01\n",
    "epochs = 50000\n",
    "\n",
    "w, w_0 = train_model_NLL_loss(single_neuron_regression_model, w, w_0,\n",
    "                              input_data, labels, \n",
    "                              learning_rate, epochs)\n",
    "print(\"\\nFinal weights:\")\n",
    "print(w, w_0)\n",
    "evaluate_classification_accuracy(single_neuron_regression_model, w, w_0, input_data, labels)\n",
    "plot_dataset_2D(input_data, labels)\n",
    "plot_decision_boundary_2D(w, w_0)"
   ]
  },
  {
   "cell_type": "code",
   "execution_count": 49,
   "id": "60144888-3824-486e-b31e-b3abbccff0af",
   "metadata": {},
   "outputs": [
    {
     "name": "stdout",
     "output_type": "stream",
     "text": [
      "[[0.03352691]]\n",
      "[[0.9333741]]\n",
      "[[0.95271584]]\n",
      "[[0.06687878]]\n"
     ]
    }
   ],
   "source": [
    "import numpy as np\n",
    "\n",
    "# Define the sigmoid activation function\n",
    "def sigmoid(x):\n",
    "    return 1 / (1 + np.exp(-x))\n",
    "\n",
    "# Define the derivative of the sigmoid function\n",
    "def sigmoid_derivative(x):\n",
    "    return x * (1 - x)\n",
    "\n",
    "# Define the neural network class\n",
    "class NeuralNetwork:\n",
    "    def __init__(self, num_inputs, num_hidden, num_output):\n",
    "        self.num_inputs = num_inputs\n",
    "        self.num_hidden = num_hidden\n",
    "        self.num_output = num_output\n",
    "        \n",
    "        # Initialize the weights with random values\n",
    "        self.weights_hidden = np.random.randn(self.num_inputs, self.num_hidden)\n",
    "        self.weights_output = np.random.randn(self.num_hidden, self.num_output)\n",
    "        \n",
    "        # Initialize the biases with zeros\n",
    "        self.biases_hidden = np.zeros((1, self.num_hidden))\n",
    "        self.biases_output = np.zeros((1, self.num_output))\n",
    "    \n",
    "    def forward_propagation(self, inputs):\n",
    "        # Compute the activation of the hidden layer\n",
    "        hidden_layer = sigmoid(np.dot(inputs, self.weights_hidden) + self.biases_hidden)\n",
    "        \n",
    "        # Compute the activation of the output layer\n",
    "        output_layer = sigmoid(np.dot(hidden_layer, self.weights_output) + self.biases_output)\n",
    "        \n",
    "        return hidden_layer, output_layer\n",
    "    \n",
    "    def backpropagation(self, inputs, targets, hidden_layer, output_layer, learning_rate):\n",
    "        # Compute the error in the output layer\n",
    "        output_error = targets - output_layer\n",
    "        \n",
    "        # Compute the gradient of the error with respect to the output layer weights and biases\n",
    "        output_delta = output_error * sigmoid_derivative(output_layer)\n",
    "        \n",
    "        # Compute the error in the hidden layer\n",
    "        hidden_error = np.dot(output_delta, self.weights_output.T)\n",
    "        \n",
    "        # Compute the gradient of the error with respect to the hidden layer weights and biases\n",
    "        hidden_delta = hidden_error * sigmoid_derivative(hidden_layer)\n",
    "        \n",
    "        # Update the weights and biases using gradient descent\n",
    "        self.weights_output += np.dot(hidden_layer.T, output_delta) * learning_rate\n",
    "        self.biases_output += np.sum(output_delta, axis=0) * learning_rate\n",
    "        self.weights_hidden += np.dot(inputs.T, hidden_delta) * learning_rate\n",
    "        self.biases_hidden += np.sum(hidden_delta, axis=0) * learning_rate\n",
    "    \n",
    "    def train(self, inputs, targets, num_epochs, learning_rate):\n",
    "        for epoch in range(num_epochs):\n",
    "            # Perform forward propagation\n",
    "            hidden_layer, output_layer = self.forward_propagation(inputs)\n",
    "            \n",
    "            # Perform backpropagation and update the weights and biases\n",
    "            self.backpropagation(inputs, targets, hidden_layer, output_layer, learning_rate)\n",
    "            \n",
    "            # Print the mean squared error for monitoring the training progress\n",
    "            mse = np.mean(np.square(targets - output_layer))\n",
    "            # print(f\"Epoch {epoch + 1}/{num_epochs}, Mean Squared Error: {mse:.4f}\")\n",
    "    \n",
    "    def predict(self, inputs):\n",
    "        _, output = self.forward_propagation(inputs)\n",
    "        return output\n",
    "\n",
    "# Example usage\n",
    "# Create a neural network with 2 inputs, 3 hidden neurons, and 1 output neuron\n",
    "network = NeuralNetwork(2, 3, 1)\n",
    "\n",
    "# Training data (inputs and corresponding targets)\n",
    "inputs = np.array([[0, 0], [0, 1], [1, 0], [1, 1]])\n",
    "targets = np.array([[0], [1], [1], [0]])\n",
    "learning_rate = 0.1\n",
    "# Train the network for 1000 epochs with a learning rate of 0.1\n",
    "network.train(inputs, targets, num_epochs=10000, learning_rate=0.1)\n",
    "print(network.forward_propagation(inputs[0])[1])\n",
    "print(network.forward_propagation(inputs[1])[1])\n",
    "print(network.forward_propagation(inputs[2])[1])\n",
    "print(network.forward_propagation(inputs[3])[1])\n"
   ]
  },
  {
   "cell_type": "code",
   "execution_count": null,
   "id": "1bf5306f-fcb8-4f11-a16c-f5064d677abf",
   "metadata": {},
   "outputs": [],
   "source": []
  }
 ],
 "metadata": {
  "kernelspec": {
   "display_name": "Python 3.9.16",
   "language": "python",
   "name": "python3"
  },
  "language_info": {
   "codemirror_mode": {
    "name": "ipython",
    "version": 3
   },
   "file_extension": ".py",
   "mimetype": "text/x-python",
   "name": "python",
   "nbconvert_exporter": "python",
   "pygments_lexer": "ipython3",
   "version": "3.9.16"
  }
 },
 "nbformat": 4,
 "nbformat_minor": 5
}
